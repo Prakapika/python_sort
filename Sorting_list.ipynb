{
 "cells": [
  {
   "cell_type": "code",
   "execution_count": 10,
   "id": "d13ab872",
   "metadata": {},
   "outputs": [
    {
     "name": "stdout",
     "output_type": "stream",
     "text": [
      "initial list ['great', 'hello', 'hiyo', 'abc']\n",
      "result ['abc', 'great', 'hello', 'hiyo']\n"
     ]
    }
   ],
   "source": [
    "ini_list = [\"great\",\"hello\",\"hiyo\",'abc']\n",
    "print (\"initial list\", str(ini_list))\n",
    "\n",
    "ini_list.sort(key = lambda x: x.split()[-1])\n",
    "print (\"result\", str(ini_list))\n"
   ]
  },
  {
   "cell_type": "code",
   "execution_count": null,
   "id": "d4f3c97c",
   "metadata": {},
   "outputs": [],
   "source": [
    "list = [\"Praka\", \"Mathes\", \"Prabhu\"]\n",
    "list.sort[]"
   ]
  },
  {
   "cell_type": "code",
   "execution_count": null,
   "id": "06639565",
   "metadata": {},
   "outputs": [],
   "source": []
  }
 ],
 "metadata": {
  "kernelspec": {
   "display_name": "Python 3 (ipykernel)",
   "language": "python",
   "name": "python3"
  },
  "language_info": {
   "codemirror_mode": {
    "name": "ipython",
    "version": 3
   },
   "file_extension": ".py",
   "mimetype": "text/x-python",
   "name": "python",
   "nbconvert_exporter": "python",
   "pygments_lexer": "ipython3",
   "version": "3.10.6"
  }
 },
 "nbformat": 4,
 "nbformat_minor": 5
}
